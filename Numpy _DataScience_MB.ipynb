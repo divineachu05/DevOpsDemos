{
  "nbformat": 4,
  "nbformat_minor": 5,
  "metadata": {
    "kernelspec": {
      "display_name": "Python 3",
      "language": "python",
      "name": "python3"
    },
    "language_info": {
      "codemirror_mode": {
        "name": "ipython",
        "version": 3
      },
      "file_extension": ".py",
      "mimetype": "text/x-python",
      "name": "python",
      "nbconvert_exporter": "python",
      "pygments_lexer": "ipython3",
      "version": "3.8.8"
    },
    "colab": {
      "name": "Copy of NumpyDataScience_MB.ipynb",
      "provenance": [],
      "include_colab_link": true
    }
  },
  "cells": [
    {
      "cell_type": "markdown",
      "metadata": {
        "id": "view-in-github",
        "colab_type": "text"
      },
      "source": [
        "<a href=\"https://colab.research.google.com/github/divineachu05/DevOpsDemos/blob/master/Numpy%20_DataScience_MB.ipynb\" target=\"_parent\"><img src=\"https://colab.research.google.com/assets/colab-badge.svg\" alt=\"Open In Colab\"/></a>"
      ]
    },
    {
      "cell_type": "markdown",
      "metadata": {
        "id": "mounted-latvia"
      },
      "source": [
        "<h1>\n",
        "    <b>\n",
        "        NUMPY</b>\n",
        "    </h>\n"
      ],
      "id": "mounted-latvia"
    },
    {
      "cell_type": "markdown",
      "metadata": {
        "id": "attempted-words"
      },
      "source": [
        "NumPy is a Python library.\n",
        "\n",
        "NumPy is used for working with arrays.\n",
        "\n",
        "NumPy is short for \"Numerical Python\".\n",
        "\n",
        "<b>What is NumPy?</b>\n",
        "\n",
        "NumPy is a Python library used for working with arrays.\n",
        "\n",
        "It also has functions for working in domain of linear algebra, fourier transform, and matrices.\n",
        "\n",
        "It is an open source project and you can use it freely.\n",
        "\n",
        "<b>Why Use NumPy?</b>\n",
        "\n",
        "In Python we have lists that serve the purpose of arrays, but they are slow to process.\n",
        "\n",
        "NumPy aims to provide an array object that is up to 50x faster than traditional Python lists.\n",
        "\n",
        "The array object in NumPy is called ndarray, it provides a lot of supporting functions that make working with ndarray very easy.\n",
        "\n",
        "Arrays are very frequently used in data science, where speed and resources are very important.\n",
        "\n",
        "<b>Why is NumPy Faster Than Lists?</b>\n",
        "\n",
        "NumPy arrays are stored at one continuous place in memory unlike lists, so processes can access and manipulate them very efficiently.\n",
        "\n",
        "This behavior is called locality of reference in computer science.\n",
        "\n",
        "This is the main reason why NumPy is faster than lists. Also it is optimized to work with latest CPU architectures."
      ],
      "id": "attempted-words"
    },
    {
      "cell_type": "markdown",
      "metadata": {
        "id": "inappropriate-japanese"
      },
      "source": [
        "<b>NumPy Getting Started</b>\n",
        "\n",
        "Installation of NumPy\n",
        "\n",
        "If you have Python and PIP already installed on a system, then installation of NumPy is very easy.\n",
        "\n",
        "Install it using this command:\n",
        "\n",
        "<b>pip install numpy</b>"
      ],
      "id": "inappropriate-japanese"
    },
    {
      "cell_type": "markdown",
      "metadata": {
        "id": "plastic-apparatus"
      },
      "source": [
        "Import NumPy\n",
        "Once NumPy is installed, import it in your applications by adding the import keyword:"
      ],
      "id": "plastic-apparatus"
    },
    {
      "cell_type": "code",
      "metadata": {
        "id": "tribal-selection"
      },
      "source": [
        "import numpy # If you get error as no module found when you are running this code then pip install numpy"
      ],
      "id": "tribal-selection",
      "execution_count": null,
      "outputs": []
    },
    {
      "cell_type": "markdown",
      "metadata": {
        "id": "fancy-accountability"
      },
      "source": [
        "Now NumPy is imported and ready to use.\n",
        "\n",
        "Example:"
      ],
      "id": "fancy-accountability"
    },
    {
      "cell_type": "code",
      "metadata": {
        "id": "tamil-soldier"
      },
      "source": [
        ""
      ],
      "id": "tamil-soldier",
      "execution_count": null,
      "outputs": []
    },
    {
      "cell_type": "markdown",
      "metadata": {
        "id": "interesting-ghana"
      },
      "source": [
        "<b>NumPy as np</b>\n",
        "\n",
        "NumPy is usually imported under the np alias.\n",
        "\n",
        "<b>alias:</b> In Python alias are an alternate name for referring to the same thing.\n",
        "\n",
        "Create an alias with the as keyword while importing:"
      ],
      "id": "interesting-ghana"
    },
    {
      "cell_type": "code",
      "metadata": {
        "id": "sustained-departure"
      },
      "source": [
        "import numpy as p #nick name of numpy"
      ],
      "id": "sustained-departure",
      "execution_count": null,
      "outputs": []
    },
    {
      "cell_type": "markdown",
      "metadata": {
        "id": "particular-infrastructure"
      },
      "source": [
        "Now the NumPy package can be referred to as np instead of numpy."
      ],
      "id": "particular-infrastructure"
    },
    {
      "cell_type": "code",
      "metadata": {
        "id": "addressed-ribbon",
        "outputId": "e4d02036-1889-42a3-ed52-8512b4985251"
      },
      "source": [
        "arr = p.array([1,2,3,4,5])\n",
        "arr"
      ],
      "id": "addressed-ribbon",
      "execution_count": null,
      "outputs": [
        {
          "output_type": "execute_result",
          "data": {
            "text/plain": [
              "array([1, 2, 3, 4, 5])"
            ]
          },
          "metadata": {
            "tags": []
          },
          "execution_count": 3
        }
      ]
    },
    {
      "cell_type": "code",
      "metadata": {
        "id": "equivalent-insured",
        "outputId": "5c85d566-f8e7-495b-8e84-3693a882a609"
      },
      "source": [
        "#check version\n",
        "np.__version__"
      ],
      "id": "equivalent-insured",
      "execution_count": null,
      "outputs": [
        {
          "output_type": "error",
          "ename": "NameError",
          "evalue": "name 'np' is not defined",
          "traceback": [
            "\u001b[1;31m---------------------------------------------------------------------------\u001b[0m",
            "\u001b[1;31mNameError\u001b[0m                                 Traceback (most recent call last)",
            "\u001b[1;32m<ipython-input-4-264220db01f2>\u001b[0m in \u001b[0;36m<module>\u001b[1;34m\u001b[0m\n\u001b[0;32m      1\u001b[0m \u001b[1;31m#check version\u001b[0m\u001b[1;33m\u001b[0m\u001b[1;33m\u001b[0m\u001b[1;33m\u001b[0m\u001b[0m\n\u001b[1;32m----> 2\u001b[1;33m \u001b[0mnp\u001b[0m\u001b[1;33m.\u001b[0m\u001b[0m__version__\u001b[0m\u001b[1;33m\u001b[0m\u001b[1;33m\u001b[0m\u001b[0m\n\u001b[0m",
            "\u001b[1;31mNameError\u001b[0m: name 'np' is not defined"
          ]
        }
      ]
    },
    {
      "cell_type": "markdown",
      "metadata": {
        "id": "stretch-number"
      },
      "source": [
        "<b>NumPy Creating Arrays</b>\n",
        "\n",
        "Create a NumPy ndarray Object\n",
        "\n",
        "NumPy is used to work with arrays. The array object in NumPy is called ndarray.\n",
        "\n",
        "We can create a NumPy ndarray object by using the array() function."
      ],
      "id": "stretch-number"
    },
    {
      "cell_type": "code",
      "metadata": {
        "id": "arabic-microphone"
      },
      "source": [
        "arr = np.array([10,20,30])\n",
        "print(arr)\n",
        "print(type(arr))"
      ],
      "id": "arabic-microphone",
      "execution_count": null,
      "outputs": []
    },
    {
      "cell_type": "markdown",
      "metadata": {
        "id": "southwest-clinton"
      },
      "source": [
        "To create an ndarray, we can pass a list, tuple or any array-like object into the array() method, and it will be converted into an ndarray:\n",
        "\n",
        "Example\n",
        "\n",
        "Use a tuple to create a NumPy array:"
      ],
      "id": "southwest-clinton"
    },
    {
      "cell_type": "code",
      "metadata": {
        "id": "hired-death"
      },
      "source": [
        "arr = np.array((1,2,3,4))\n",
        "arr"
      ],
      "id": "hired-death",
      "execution_count": null,
      "outputs": []
    },
    {
      "cell_type": "code",
      "metadata": {
        "id": "unavailable-scenario"
      },
      "source": [
        "type(arr)"
      ],
      "id": "unavailable-scenario",
      "execution_count": null,
      "outputs": []
    },
    {
      "cell_type": "markdown",
      "metadata": {
        "id": "australian-kingston"
      },
      "source": [
        "<b>Dimensions in Arrays</b>\n",
        "\n",
        "A dimension in arrays is one level of array depth (nested arrays).\n",
        "\n",
        "nested array: are arrays that have arrays as their elements.\n",
        "\n",
        "<b>0-D Arrays</b>\n",
        "\n",
        "0-D arrays, or Scalars, are the elements in an array. Each value in an array is a 0-D array.\n",
        "\n",
        "Example\n",
        "\n",
        "Create a 0-D array with value 42"
      ],
      "id": "australian-kingston"
    },
    {
      "cell_type": "code",
      "metadata": {
        "id": "solid-understanding"
      },
      "source": [
        "arr = np.array(42)\n",
        "arr"
      ],
      "id": "solid-understanding",
      "execution_count": null,
      "outputs": []
    },
    {
      "cell_type": "markdown",
      "metadata": {
        "id": "rental-failure"
      },
      "source": [
        "<b>1-D Arrays</b>\n",
        "\n",
        "An array that has 0-D arrays as its elements is called uni-dimensional or 1-D array.\n",
        "\n",
        "These are the most common and basic arrays.\n",
        "\n",
        "Example\n",
        "Create a 1-D array containing the values 1,2,3,4,5:"
      ],
      "id": "rental-failure"
    },
    {
      "cell_type": "code",
      "metadata": {
        "id": "identified-sauce"
      },
      "source": [
        "arr = np.array([1,2,3])\n",
        "arr"
      ],
      "id": "identified-sauce",
      "execution_count": null,
      "outputs": []
    },
    {
      "cell_type": "markdown",
      "metadata": {
        "id": "disturbed-action"
      },
      "source": [
        "<b>2-D Arrays</b>\n",
        "\n",
        "An array that has 1-D arrays as its elements is called a 2-D array.\n",
        "\n",
        "These are often used to represent matrix or 2nd order tensors.\n",
        "\n",
        "NumPy has a whole sub module dedicated towards matrix operations called numpy.mat\n",
        "\n",
        "Example\n",
        "Create a 2-D array containing two arrays with the values 1,2,3 and 4,5,6:"
      ],
      "id": "disturbed-action"
    },
    {
      "cell_type": "code",
      "metadata": {
        "id": "engaging-aircraft"
      },
      "source": [
        "arr = np.array([[1,2,3],[2,5,6]])\n",
        "arr"
      ],
      "id": "engaging-aircraft",
      "execution_count": null,
      "outputs": []
    },
    {
      "cell_type": "markdown",
      "metadata": {
        "id": "european-gamma"
      },
      "source": [
        "<b>3-D arrays</b>\n",
        "\n",
        "An array that has 2-D arrays (matrices) as its elements is called 3-D array.\n",
        "\n",
        "These are often used to represent a 3rd order tensor.\n"
      ],
      "id": "european-gamma"
    },
    {
      "cell_type": "code",
      "metadata": {
        "id": "canadian-domain"
      },
      "source": [
        "arr = np.array([[[1,2,3],[1,4,5]],[[5,6,1],[2,3,6]]])\n",
        "arr"
      ],
      "id": "canadian-domain",
      "execution_count": null,
      "outputs": []
    },
    {
      "cell_type": "markdown",
      "metadata": {
        "id": "familiar-cabin"
      },
      "source": [
        "<b>Check Number of Dimensions?</b>\n",
        "\n",
        "NumPy Arrays provides the ndim attribute that returns an integer that tells us how many dimensions the array have.\n",
        "\n",
        "Example\n",
        "Check how many dimensions the arrays have:"
      ],
      "id": "familiar-cabin"
    },
    {
      "cell_type": "code",
      "metadata": {
        "id": "static-silicon"
      },
      "source": [
        "a = np.array(42)\n",
        "b = np.array([1,2,3,4,5,6])\n",
        "c = np.array([[1,2,3],[4,5,6]])\n",
        "d = np.array([[[1,2,3],[1,4,5]],[[5,6,1],[2,3,6]]])\n",
        "\n",
        "print(a.ndim)\n",
        "print(b.ndim)\n",
        "print(c.ndim)\n",
        "print(d.ndim)"
      ],
      "id": "static-silicon",
      "execution_count": null,
      "outputs": []
    },
    {
      "cell_type": "markdown",
      "metadata": {
        "id": "documented-strap"
      },
      "source": [
        "<b>Higher Dimensional Arrays</b>\n",
        "\n",
        "An array can have any number of dimensions.\n",
        "\n",
        "When the array is created, you can define the number of dimensions by using the ndmin argument.\n",
        "\n",
        "Example\n",
        "Create an array with 5 dimensions and verify that it has 5 dimensions:"
      ],
      "id": "documented-strap"
    },
    {
      "cell_type": "code",
      "metadata": {
        "id": "potential-vulnerability"
      },
      "source": [
        "arr = np.array([[[1,2,3,4]]],ndmin =2)\n",
        "print(arr)\n",
        "print(\"num of dimensions\", arr.ndim)"
      ],
      "id": "potential-vulnerability",
      "execution_count": null,
      "outputs": []
    },
    {
      "cell_type": "markdown",
      "metadata": {
        "id": "increasing-simple"
      },
      "source": [
        "<h2>NumPy Array Indexing</h2>\n",
        "\n",
        "<b>Access Array Elements</b>\n",
        "\n",
        "Array indexing is the same as accessing an array element.\n",
        "\n",
        "You can access an array element by referring to its index number.\n",
        "\n",
        "The indexes in NumPy arrays start with 0, meaning that the first element has index 0, and the second has index 1 etc.\n",
        "\n",
        "Example\n",
        "\n",
        "Get the first element from the following array:"
      ],
      "id": "increasing-simple"
    },
    {
      "cell_type": "code",
      "metadata": {
        "id": "radical-wheel"
      },
      "source": [
        "arr = np.array([1,2,3,4])\n",
        "print(arr[1])"
      ],
      "id": "radical-wheel",
      "execution_count": null,
      "outputs": []
    },
    {
      "cell_type": "markdown",
      "metadata": {
        "id": "together-incentive"
      },
      "source": [
        "Example\n",
        "\n",
        "Get third and fourth elements from the following array and add them."
      ],
      "id": "together-incentive"
    },
    {
      "cell_type": "code",
      "metadata": {
        "id": "loose-liberty"
      },
      "source": [
        "arr = np.array([1,2,3,4])\n",
        "print(arr[2] + arr[3])"
      ],
      "id": "loose-liberty",
      "execution_count": null,
      "outputs": []
    },
    {
      "cell_type": "markdown",
      "metadata": {
        "id": "limiting-animation"
      },
      "source": [
        "<b>Access 2-D Arrays</b>\n",
        "\n",
        "To access elements from 2-D arrays we can use comma separated integers representing the dimension and the index of the element.\n",
        "\n",
        "Example\n",
        "\n",
        "Access the 2nd element on 1st dim:"
      ],
      "id": "limiting-animation"
    },
    {
      "cell_type": "code",
      "metadata": {
        "id": "tutorial-shoulder"
      },
      "source": [
        "arr = np.array([[1,2,3,4,5],[6,7,8,9,10]])\n",
        "print('second element on 1st dim is:',arr[1,3])"
      ],
      "id": "tutorial-shoulder",
      "execution_count": null,
      "outputs": []
    },
    {
      "cell_type": "markdown",
      "metadata": {
        "id": "exposed-closer"
      },
      "source": [
        "<b>Access 3-D Arrays</b>\n",
        "\n",
        "To access elements from 3-D arrays we can use comma separated integers representing the dimensions and the index of the element.\n",
        "\n",
        "Example\n",
        "Access the third element of the second array of the first array:"
      ],
      "id": "exposed-closer"
    },
    {
      "cell_type": "code",
      "metadata": {
        "id": "general-ancient"
      },
      "source": [
        "arr = np.array([[[1,2,3],[4,5,6]],[[7,8,9],[10,11,12]]])\n",
        "print(arr[0,1,2])"
      ],
      "id": "general-ancient",
      "execution_count": null,
      "outputs": []
    },
    {
      "cell_type": "code",
      "metadata": {
        "id": "recreational-butler"
      },
      "source": [
        "[1,2,3]--1D\n",
        "[[1,2,3],[4,5,6]] ---2D\n",
        "[[[1,2,3],[4,5,6]],[[1,2,3],[4,5,6]]] --3D"
      ],
      "id": "recreational-butler",
      "execution_count": null,
      "outputs": []
    },
    {
      "cell_type": "markdown",
      "metadata": {
        "id": "personal-pregnancy"
      },
      "source": [
        "<b>Negative Indexing</b>\n",
        "\n",
        "Use negative indexing to access an array from the end.\n",
        "\n",
        "Example\n",
        "\n",
        "Print the last element from the 2nd dim:"
      ],
      "id": "personal-pregnancy"
    },
    {
      "cell_type": "code",
      "metadata": {
        "id": "blank-technician"
      },
      "source": [
        "arr = np.array([[1,2,3,4,5],[6,7,8,9,10]])\n",
        "print(arr[0,-5])"
      ],
      "id": "blank-technician",
      "execution_count": null,
      "outputs": []
    },
    {
      "cell_type": "markdown",
      "metadata": {
        "id": "executed-athletics"
      },
      "source": [
        "<h1>NumPy Array Slicing</h1>\n",
        "\n",
        "<b>Slicing arrays</b>\n",
        "\n",
        "Slicing in python means taking elements from one given index to another given index.\n",
        "\n",
        "We pass slice instead of index like this: [start:end].\n",
        "\n",
        "We can also define the step, like this: [start:end:step].\n",
        "\n",
        "If we don't pass start its considered 0\n",
        "\n",
        "If we don't pass end its considered length of array in that dimension\n",
        "\n",
        "If we don't pass step its considered 1\n",
        "\n",
        "Example\n",
        "Slice elements from index 1 to index 5 from the following array:"
      ],
      "id": "executed-athletics"
    },
    {
      "cell_type": "code",
      "metadata": {
        "id": "cheap-customer",
        "outputId": "706c78cb-274e-4c4a-e984-c54706dc7dfc"
      },
      "source": [
        "import numpy as np\n",
        "arr = np.array([1,2,3,4,5,6,7])\n",
        "print(arr[0:])"
      ],
      "id": "cheap-customer",
      "execution_count": null,
      "outputs": [
        {
          "output_type": "stream",
          "text": [
            "[1 2 3 4 5 6 7]\n"
          ],
          "name": "stdout"
        }
      ]
    },
    {
      "cell_type": "markdown",
      "metadata": {
        "id": "homeless-forge"
      },
      "source": [
        "Example\n",
        "\n",
        "Slice elements from index 4 to the end of the array:"
      ],
      "id": "homeless-forge"
    },
    {
      "cell_type": "code",
      "metadata": {
        "id": "incoming-monroe",
        "outputId": "c4402a02-9278-4a44-9b29-031b07eb694a"
      },
      "source": [
        "arr = np.array([1,2,3,4,5,6,7])\n",
        "print(arr[0:8])"
      ],
      "id": "incoming-monroe",
      "execution_count": null,
      "outputs": [
        {
          "output_type": "stream",
          "text": [
            "[1 2 3 4 5 6 7]\n"
          ],
          "name": "stdout"
        }
      ]
    },
    {
      "cell_type": "markdown",
      "metadata": {
        "id": "cardiovascular-country"
      },
      "source": [
        "<b>Negative Slicing</b>\n",
        "\n",
        "Use the minus operator to refer to an index from the end:\n",
        "\n",
        "Example\n",
        "\n",
        "Slice from the index 3 from the end to index 1 from the end:"
      ],
      "id": "cardiovascular-country"
    },
    {
      "cell_type": "code",
      "metadata": {
        "id": "tutorial-hacker",
        "outputId": "83b82a32-0066-4e21-d828-bd43d64c0dd7"
      },
      "source": [
        "arr = np.array([1,2,3,4,5,6,7])\n",
        "print(arr[-7:-3])"
      ],
      "id": "tutorial-hacker",
      "execution_count": null,
      "outputs": [
        {
          "output_type": "stream",
          "text": [
            "[1 2 3 4]\n"
          ],
          "name": "stdout"
        }
      ]
    },
    {
      "cell_type": "markdown",
      "metadata": {
        "id": "median-constitutional"
      },
      "source": [
        "<b>STEP</b>\n",
        "\n",
        "Use the step value to determine the step of the slicing:\n",
        "\n",
        "Example\n",
        "\n",
        "Return every other element from index 1 to index 5:"
      ],
      "id": "median-constitutional"
    },
    {
      "cell_type": "code",
      "metadata": {
        "id": "verbal-buddy"
      },
      "source": [
        "arr = np.array([1,2,3,4,5,6,7,8])\n",
        "print(arr[0:8:2])"
      ],
      "id": "verbal-buddy",
      "execution_count": null,
      "outputs": []
    },
    {
      "cell_type": "markdown",
      "metadata": {
        "id": "opponent-breach"
      },
      "source": [
        "Example\n",
        "\n",
        "Return every other element from the entire array:"
      ],
      "id": "opponent-breach"
    },
    {
      "cell_type": "code",
      "metadata": {
        "id": "healthy-basement"
      },
      "source": [
        "arr = np.array([1,2,3,4,5,6,7,8])\n",
        "print(arr[::2])"
      ],
      "id": "healthy-basement",
      "execution_count": null,
      "outputs": []
    },
    {
      "cell_type": "markdown",
      "metadata": {
        "id": "canadian-fairy"
      },
      "source": [
        "Slicing 2-D Arrays\n",
        "\n",
        "Example\n",
        "\n",
        "From the second element, slice elements from index 1 to index 4 (not included):"
      ],
      "id": "canadian-fairy"
    },
    {
      "cell_type": "code",
      "metadata": {
        "id": "revised-palace"
      },
      "source": [
        "arr = np.array([[1,2,3,4,5],[6,7,8,9,10]])\n",
        "print(arr[1,1:4])"
      ],
      "id": "revised-palace",
      "execution_count": null,
      "outputs": []
    },
    {
      "cell_type": "markdown",
      "metadata": {
        "id": "latin-minnesota"
      },
      "source": [
        "Example\n",
        "\n",
        "From both elements, return index 2:"
      ],
      "id": "latin-minnesota"
    },
    {
      "cell_type": "code",
      "metadata": {
        "id": "undefined-reservoir"
      },
      "source": [
        "arr = np.array([[1,2,3,4,5],[6,7,8,9,10]])\n",
        "print(arr[0:1,3])"
      ],
      "id": "undefined-reservoir",
      "execution_count": null,
      "outputs": []
    },
    {
      "cell_type": "markdown",
      "metadata": {
        "id": "casual-spread"
      },
      "source": [
        "Example\n",
        "\n",
        "From both elements, slice index 1 to index 4 (not included), this will return a 2-D array:"
      ],
      "id": "casual-spread"
    },
    {
      "cell_type": "code",
      "metadata": {
        "id": "smart-tuition"
      },
      "source": [
        "arr = np.array([[1,2,3,4,5],[6,7,8,9,10]])\n",
        "print(arr[:,1:5])"
      ],
      "id": "smart-tuition",
      "execution_count": null,
      "outputs": []
    },
    {
      "cell_type": "code",
      "metadata": {
        "id": "worthy-military"
      },
      "source": [
        "arr=np.array([ [1,2,3,4,5], [6,7,8,9,10] ] )\n",
        "lst=[[1,2,3,4,5], [6,7,8,9,10] ]\n",
        "\n",
        "\n",
        "print(arr.shape)"
      ],
      "id": "worthy-military",
      "execution_count": null,
      "outputs": []
    },
    {
      "cell_type": "code",
      "metadata": {
        "id": "polish-armor"
      },
      "source": [
        ""
      ],
      "id": "polish-armor",
      "execution_count": null,
      "outputs": []
    },
    {
      "cell_type": "markdown",
      "metadata": {
        "id": "exceptional-crowd"
      },
      "source": [
        "<h2>NumPy Data Types</h2>\n",
        "\n",
        "Data Types in Python\n",
        "\n",
        "By default Python have these data types:\n",
        "\n",
        "strings - used to represent text data, the text is given under quote marks. e.g. \"ABCD\"\n",
        "\n",
        "integer - used to represent integer numbers. e.g. -1, -2, -3\n",
        "\n",
        "float - used to represent real numbers. e.g. 1.2, 42.42\n",
        "\n",
        "boolean - used to represent True or False.\n",
        "\n",
        "complex - used to represent complex numbers. e.g. 1.0 + 2.0j, 1.5 + 2.5j\n",
        "    \n",
        "Data Types in NumPy\n",
        "\n",
        "NumPy has some extra data types, and refer to data types with one character, like i for integers, u for unsigned integers etc.\n",
        "\n",
        "Below is a list of all data types in NumPy and the characters used to represent them.\n",
        "\n",
        "i - integer\n",
        "\n",
        "b - boolean\n",
        "\n",
        "u - unsigned integer\n",
        "\n",
        "f - float\n",
        "\n",
        "c - complex float\n",
        "\n",
        "m - timedelta\n",
        "\n",
        "M - datetime\n",
        "\n",
        "O - object\n",
        "\n",
        "S - string\n",
        "\n",
        "U - unicode string\n",
        "\n",
        "V - fixed chunk of memory for other type ( void )\n",
        "\n",
        "Checking the Data Type of an Array\n",
        "\n",
        "The NumPy array object has a property called dtype that returns the data type of the array:\n",
        "\n",
        "Example\n",
        "    \n",
        "Get the data type of an array object:"
      ],
      "id": "exceptional-crowd"
    },
    {
      "cell_type": "code",
      "metadata": {
        "id": "narrow-competition"
      },
      "source": [
        "arr = np.array([1,2,3])\n",
        "print(arr.dtype)\n",
        "print(type(arr))"
      ],
      "id": "narrow-competition",
      "execution_count": null,
      "outputs": []
    },
    {
      "cell_type": "markdown",
      "metadata": {
        "id": "stuck-fraction"
      },
      "source": [
        "<b>NumPy Array Copy vs View</b>\n",
        "\n",
        "The Difference Between Copy and View\n",
        "\n",
        "The main difference between a copy and a view of an array is that the copy is a new array, and the view is just a view of the original array.\n",
        "\n",
        "The copy owns the data and any changes made to the copy will not affect original array, and any changes made to the original array will not affect the copy.\n",
        "\n",
        "The view does not own the data and any changes made to the view will affect the original array, and any changes made to the original array will affect the view."
      ],
      "id": "stuck-fraction"
    },
    {
      "cell_type": "markdown",
      "metadata": {
        "id": "accepting-indianapolis"
      },
      "source": [
        "<b>COPY:</b>\n",
        "    \n",
        "Example\n",
        "\n",
        "Make a copy, change the original array, and display both arrays:"
      ],
      "id": "accepting-indianapolis"
    },
    {
      "cell_type": "code",
      "metadata": {
        "id": "furnished-moment"
      },
      "source": [
        "import numpy as np\n",
        "arr = np.array([1,2,3,4,5])\n",
        "x = arr.copy()\n",
        "arr[1] = 50\n",
        "print(arr)\n",
        "print(x)"
      ],
      "id": "furnished-moment",
      "execution_count": null,
      "outputs": []
    },
    {
      "cell_type": "markdown",
      "metadata": {
        "id": "impaired-stupid"
      },
      "source": [
        "<b>VIEW:</b>\n",
        "    \n",
        "Example\n",
        "\n",
        "Make a view, change the original array, and display both arrays:\n",
        "\n",
        "The view SHOULD be affected by the changes made to the original array."
      ],
      "id": "impaired-stupid"
    },
    {
      "cell_type": "code",
      "metadata": {
        "id": "crazy-importance"
      },
      "source": [
        "import numpy as np\n",
        "arr = np.array([1,2,3,4,5])\n",
        "x = arr.view()\n",
        "arr[1] = 50\n",
        "print(arr)\n",
        "print(x)"
      ],
      "id": "crazy-importance",
      "execution_count": null,
      "outputs": []
    },
    {
      "cell_type": "markdown",
      "metadata": {
        "id": "occupational-being"
      },
      "source": [
        "Make Changes in the VIEW:\n",
        "\n",
        "Example\n",
        "\n",
        "Make a view, change the view, and display both arrays:\n",
        "\n",
        "The original array SHOULD be affected by the changes made to the view."
      ],
      "id": "occupational-being"
    },
    {
      "cell_type": "code",
      "metadata": {
        "id": "ready-camping"
      },
      "source": [
        "import numpy as np\n",
        "arr = np.array([1,2,3,4,5])\n",
        "x = arr.view()\n",
        "x[1] = 50\n",
        "print(arr)\n",
        "print(x)"
      ],
      "id": "ready-camping",
      "execution_count": null,
      "outputs": []
    },
    {
      "cell_type": "markdown",
      "metadata": {
        "id": "rational-mystery"
      },
      "source": [
        "<h2>NumPy Array Shape</h2>\n",
        "\n",
        "<b>Shape of an Array</b>\n",
        "\n",
        "The shape of an array is the number of elements in each dimension.\n",
        "\n",
        "<b>Get the Shape of an Array</b>\n",
        "\n",
        "NumPy arrays have an attribute called shape that returns a tuple with each index having the number of corresponding elements.\n",
        "\n",
        "<b>Example</b>\n",
        "\n",
        "Print the shape of a 2-D array:"
      ],
      "id": "rational-mystery"
    },
    {
      "cell_type": "code",
      "metadata": {
        "id": "surface-birth",
        "outputId": "0a92510d-b6a6-4788-bec8-44ae8f8d7cd7"
      },
      "source": [
        "arr = np.array([[1,2,3,4],[5,6,7,8]])\n",
        "print(arr)\n",
        "arr.shape"
      ],
      "id": "surface-birth",
      "execution_count": null,
      "outputs": [
        {
          "output_type": "stream",
          "text": [
            "[[1 2 3 4]\n",
            " [5 6 7 8]]\n"
          ],
          "name": "stdout"
        },
        {
          "output_type": "execute_result",
          "data": {
            "text/plain": [
              "(2, 4)"
            ]
          },
          "metadata": {
            "tags": []
          },
          "execution_count": 10
        }
      ]
    },
    {
      "cell_type": "markdown",
      "metadata": {
        "id": "complimentary-offset"
      },
      "source": [
        "<b>NumPy Array Reshaping</b>\n",
        "\n",
        "<b>Reshaping arrays</b>\n",
        "\n",
        "Reshaping means changing the shape of an array.\n",
        "\n",
        "The shape of an array is the number of elements in each dimension.\n",
        "\n",
        "By reshaping we can add or remove dimensions or change number of elements in each dimension.\n",
        "\n",
        "Reshape From 1-D to 2-D\n",
        "\n",
        "Example\n",
        "\n",
        "Convert the following 1-D array with 12 elements into a 2-D array.\n",
        "\n",
        "The outermost dimension will have 4 arrays, each with 3 elements:"
      ],
      "id": "complimentary-offset"
    },
    {
      "cell_type": "code",
      "metadata": {
        "id": "blocked-stake",
        "outputId": "ace328de-c4ef-452c-e784-25e1834b2e37"
      },
      "source": [
        "arr = np.array([1,2,3,4,5,6,7,8,9,10,11,12])\n",
        "new_arr = arr.reshape(6,2)\n",
        "print(new_arr)"
      ],
      "id": "blocked-stake",
      "execution_count": null,
      "outputs": [
        {
          "output_type": "stream",
          "text": [
            "[[ 1  2]\n",
            " [ 3  4]\n",
            " [ 5  6]\n",
            " [ 7  8]\n",
            " [ 9 10]\n",
            " [11 12]]\n"
          ],
          "name": "stdout"
        }
      ]
    },
    {
      "cell_type": "markdown",
      "metadata": {
        "id": "analyzed-lightning"
      },
      "source": [
        "<b>Reshape From 1-D to 3-D</b>\n",
        "\n",
        "Example\n",
        "\n",
        "Convert the following 1-D array with 12 elements into a 3-D array.\n",
        "\n",
        "The outermost dimension will have 2 arrays that contains 3 arrays, each with 2 elements:"
      ],
      "id": "analyzed-lightning"
    },
    {
      "cell_type": "code",
      "metadata": {
        "id": "rental-council",
        "outputId": "5a2c096a-9c47-4fcb-d894-00d466f70c20"
      },
      "source": [
        "arr = np.array([1,2,3,4,5,6,7,8,9,10,11,12])\n",
        "newarr = arr.reshape(2,3,2)\n",
        "newarr"
      ],
      "id": "rental-council",
      "execution_count": null,
      "outputs": [
        {
          "output_type": "execute_result",
          "data": {
            "text/plain": [
              "array([[[ 1,  2],\n",
              "        [ 3,  4],\n",
              "        [ 5,  6]],\n",
              "\n",
              "       [[ 7,  8],\n",
              "        [ 9, 10],\n",
              "        [11, 12]]])"
            ]
          },
          "metadata": {
            "tags": []
          },
          "execution_count": 27
        }
      ]
    },
    {
      "cell_type": "code",
      "metadata": {
        "id": "increased-growing",
        "outputId": "66acd391-0f25-42b1-8b82-26e9ca8f7df4"
      },
      "source": [
        "#This is for unknown dimension\n",
        "arr = np.array([1,2,3,4,5,6,7,8,9,10,11,12])\n",
        "newarr = arr.reshape(3,-1)\n",
        "newarr"
      ],
      "id": "increased-growing",
      "execution_count": null,
      "outputs": [
        {
          "output_type": "execute_result",
          "data": {
            "text/plain": [
              "array([[ 1,  2,  3,  4],\n",
              "       [ 5,  6,  7,  8],\n",
              "       [ 9, 10, 11, 12]])"
            ]
          },
          "metadata": {
            "tags": []
          },
          "execution_count": 46
        }
      ]
    },
    {
      "cell_type": "markdown",
      "metadata": {
        "id": "saving-rendering"
      },
      "source": [
        "<b>Iterating Arrays Using nditer()</b>\n",
        "\n",
        "The function nditer() is a helping function that can be used from very basic to very advanced iterations. It solves some basic issues which we face in iteration, lets go through it with examples.\n",
        "\n",
        "Iterating on Each Scalar Element\n",
        "\n",
        "In basic for loops, iterating through each scalar of an array we need to use n for loops which can be difficult to write for arrays with very high dimensionality.\n",
        "\n",
        "Example\n",
        "Iterate through the following 3-D array:"
      ],
      "id": "saving-rendering"
    },
    {
      "cell_type": "code",
      "metadata": {
        "id": "preceding-housing",
        "outputId": "26fed566-705d-4970-fdfe-93ca6fd71a63"
      },
      "source": [
        "arr = np.array([[1,2,3],[4,5,6]])\n",
        "for i in arr:\n",
        "    for j in i:\n",
        "      print(j)"
      ],
      "id": "preceding-housing",
      "execution_count": null,
      "outputs": [
        {
          "output_type": "stream",
          "text": [
            "1\n",
            "2\n",
            "3\n",
            "4\n",
            "5\n",
            "6\n"
          ],
          "name": "stdout"
        }
      ]
    },
    {
      "cell_type": "code",
      "metadata": {
        "id": "industrial-owner",
        "outputId": "d14bc3b8-7598-4935-ce07-3fb00ee4b16b"
      },
      "source": [
        "arr = np.array([[[1,2,3],[4,5,6]],[[7,8,9],[10,11,12]]])\n",
        "for x in arr:\n",
        "    for y in x:\n",
        "        for z in y:\n",
        "          print(z)"
      ],
      "id": "industrial-owner",
      "execution_count": null,
      "outputs": [
        {
          "output_type": "stream",
          "text": [
            "1\n",
            "2\n",
            "3\n",
            "4\n",
            "5\n",
            "6\n",
            "7\n",
            "8\n",
            "9\n",
            "10\n",
            "11\n",
            "12\n"
          ],
          "name": "stdout"
        }
      ]
    },
    {
      "cell_type": "code",
      "metadata": {
        "id": "sticky-shoot",
        "outputId": "9d6f1ace-c8dd-416f-c453-1a74fea94d0d"
      },
      "source": [
        "arr = np.array([[[1,2,3],[4,5,6]],[[7,8,9],[10,11,12]]])\n",
        "for x in np.nditer(arr):\n",
        "    print(x)"
      ],
      "id": "sticky-shoot",
      "execution_count": null,
      "outputs": [
        {
          "output_type": "stream",
          "text": [
            "1\n",
            "2\n",
            "3\n",
            "4\n",
            "5\n",
            "6\n",
            "7\n",
            "8\n",
            "9\n",
            "10\n",
            "11\n",
            "12\n"
          ],
          "name": "stdout"
        }
      ]
    },
    {
      "cell_type": "markdown",
      "metadata": {
        "id": "endless-carrier"
      },
      "source": [
        "<b>Iterating With Different Step Size</b>\n",
        "\n",
        "We can use filtering and followed by iteration.\n",
        "\n",
        "Example\n",
        "Iterate through every scalar element of the 2D array skipping 1 element:"
      ],
      "id": "endless-carrier"
    },
    {
      "cell_type": "code",
      "metadata": {
        "id": "laden-failing",
        "outputId": "03afd115-f46a-4c0f-dc03-bc5e491e2c9b"
      },
      "source": [
        "arr = np.array([[1,2,3,4],[5,6,7,8]])\n",
        "for x in np.nditer(arr[0:,::2]):\n",
        "    print(x)"
      ],
      "id": "laden-failing",
      "execution_count": null,
      "outputs": [
        {
          "output_type": "stream",
          "text": [
            "1\n",
            "3\n",
            "5\n",
            "7\n"
          ],
          "name": "stdout"
        }
      ]
    },
    {
      "cell_type": "markdown",
      "metadata": {
        "id": "southeast-diana"
      },
      "source": [
        "<b>Enumerated Iteration Using ndenumerate()</b>\n",
        "\n",
        "Enumeration means mentioning sequence number of somethings one by one.\n",
        "\n",
        "Sometimes we require corresponding index of the element while iterating, the ndenumerate() method can be used for those usecases.\n",
        "\n",
        "Example\n",
        "Enumerate on following 1D arrays elements:"
      ],
      "id": "southeast-diana"
    },
    {
      "cell_type": "code",
      "metadata": {
        "id": "excessive-fellow",
        "outputId": "a5f51b9c-8d95-492e-ab69-8fb58a5f19c6"
      },
      "source": [
        "arr = np.array([1,2,3])\n",
        "for a,i in np.ndenumerate(arr):\n",
        "    print(a,i)"
      ],
      "id": "excessive-fellow",
      "execution_count": null,
      "outputs": [
        {
          "output_type": "stream",
          "text": [
            "(0,) 1\n",
            "(1,) 2\n",
            "(2,) 3\n"
          ],
          "name": "stdout"
        }
      ]
    },
    {
      "cell_type": "code",
      "metadata": {
        "id": "electrical-secret",
        "outputId": "ec2e0fd3-87a2-4082-8728-6504cfb11e6b"
      },
      "source": [
        "arr = np.array([[1,2,3,4],[5,6,7,8]])\n",
        "for a,b in np.ndenumerate(arr):\n",
        "    print(a,b)"
      ],
      "id": "electrical-secret",
      "execution_count": null,
      "outputs": [
        {
          "output_type": "stream",
          "text": [
            "(0, 0) 1\n",
            "(0, 1) 2\n",
            "(0, 2) 3\n",
            "(0, 3) 4\n",
            "(1, 0) 5\n",
            "(1, 1) 6\n",
            "(1, 2) 7\n",
            "(1, 3) 8\n"
          ],
          "name": "stdout"
        }
      ]
    },
    {
      "cell_type": "markdown",
      "metadata": {
        "id": "affected-possible"
      },
      "source": [
        "<b>NumPy Joining Array</b>\n",
        "Joining NumPy Arrays\n",
        "Joining means putting contents of two or more arrays in a single array.\n",
        "\n",
        "In SQL we join tables based on a key, whereas in NumPy we join arrays by axes.\n",
        "\n",
        "We pass a sequence of arrays that we want to join to the concatenate() function, along with the axis. If axis is not explicitly passed, it is taken as 0."
      ],
      "id": "affected-possible"
    },
    {
      "cell_type": "code",
      "metadata": {
        "id": "grand-forth",
        "outputId": "d67f207d-07b8-4e32-a507-ba5dc1f11980"
      },
      "source": [
        "arr1 = np.array([1,2,3])\n",
        "arr2 = np.array([4,5,6])\n",
        "arr = np.concatenate((arr1,arr2))\n",
        "print(arr)"
      ],
      "id": "grand-forth",
      "execution_count": null,
      "outputs": [
        {
          "output_type": "stream",
          "text": [
            "[1 2 3 4 5 6]\n"
          ],
          "name": "stdout"
        }
      ]
    },
    {
      "cell_type": "markdown",
      "metadata": {
        "id": "internal-child"
      },
      "source": [
        "Example\n",
        "Join two 2-D arrays along rows (axis=1):"
      ],
      "id": "internal-child"
    },
    {
      "cell_type": "code",
      "metadata": {
        "id": "silent-staff",
        "outputId": "a6d81f71-4c79-45ad-a418-a482f640af80"
      },
      "source": [
        "arr1 = np.array([[1,2],[3,4]])\n",
        "arr2 = np.array([[5,6],[7,8]])\n",
        "arr = np.concatenate((arr1,arr2),axis =1)\n",
        "arr"
      ],
      "id": "silent-staff",
      "execution_count": null,
      "outputs": [
        {
          "output_type": "execute_result",
          "data": {
            "text/plain": [
              "array([[1, 2, 5, 6],\n",
              "       [3, 4, 7, 8]])"
            ]
          },
          "metadata": {
            "tags": []
          },
          "execution_count": 83
        }
      ]
    },
    {
      "cell_type": "markdown",
      "metadata": {
        "id": "defined-smile"
      },
      "source": [
        "<b>NumPy Splitting Array</b>\n",
        "\n",
        "Splitting is reverse operation of Joining.\n",
        "\n",
        "Joining merges multiple arrays into one and Splitting breaks one array into multiple.\n",
        "\n",
        "We use array_split() for splitting arrays, we pass it the array we want to split and the number of splits.\n",
        "\n",
        "Example\n",
        "\n",
        "Split the array in 3 parts:"
      ],
      "id": "defined-smile"
    },
    {
      "cell_type": "code",
      "metadata": {
        "id": "developing-croatia",
        "outputId": "7d63c41b-0cdf-4836-92f3-492df97608a3"
      },
      "source": [
        "arr = np.array([1,2,3,4,5,6])\n",
        "newarr = np.array_split(arr,3)\n",
        "newarr"
      ],
      "id": "developing-croatia",
      "execution_count": null,
      "outputs": [
        {
          "output_type": "execute_result",
          "data": {
            "text/plain": [
              "[array([1, 2]), array([3, 4]), array([5, 6])]"
            ]
          },
          "metadata": {
            "tags": []
          },
          "execution_count": 89
        }
      ]
    },
    {
      "cell_type": "markdown",
      "metadata": {
        "id": "original-oriental"
      },
      "source": [
        "We also have the method split() available but it will not adjust the elements when elements are less in source array for splitting like in example above, array_split() worked properly but split() would fail.\n",
        "\n",
        "<b>Split Into Arrays</b>\n",
        "\n",
        "The return value of the array_split() method is an array containing each of the split as an array.\n",
        "\n",
        "If you split an array into 3 arrays, you can access them from the result just like any array element:\n",
        "\n",
        "Example\n",
        "Access the splitted arrays:"
      ],
      "id": "original-oriental"
    },
    {
      "cell_type": "code",
      "metadata": {
        "id": "subjective-nitrogen",
        "outputId": "dd0c8477-f60b-4ed6-82d7-3348dd086602"
      },
      "source": [
        "arr = np.array([1,2,3,4,5,6])\n",
        "newarr = np.array_split(arr,3)\n",
        "print(newarr[0])\n",
        "print(newarr[1])\n",
        "print(newarr[2])"
      ],
      "id": "subjective-nitrogen",
      "execution_count": null,
      "outputs": [
        {
          "output_type": "stream",
          "text": [
            "[1 2]\n",
            "[3 4]\n",
            "[5 6]\n"
          ],
          "name": "stdout"
        }
      ]
    },
    {
      "cell_type": "markdown",
      "metadata": {
        "id": "impressed-hundred"
      },
      "source": [
        "<b>Searching Arrays</b>\n",
        "\n",
        "You can search an array for a certain value, and return the indexes that get a match.\n",
        "\n",
        "To search an array, use the where() method.\n",
        "\n",
        "Example\n",
        "Find the indexes where the value is 4:"
      ],
      "id": "impressed-hundred"
    },
    {
      "cell_type": "code",
      "metadata": {
        "id": "artificial-object",
        "outputId": "8116d6d9-5b66-463a-fd91-c7db8019dca7"
      },
      "source": [
        "arr = np.array([1,2,3,4,5,6,7,4,2,4])\n",
        "x = np.where(arr == 2)\n",
        "x"
      ],
      "id": "artificial-object",
      "execution_count": null,
      "outputs": [
        {
          "output_type": "execute_result",
          "data": {
            "text/plain": [
              "(array([1, 8], dtype=int64),)"
            ]
          },
          "metadata": {
            "tags": []
          },
          "execution_count": 91
        }
      ]
    },
    {
      "cell_type": "markdown",
      "metadata": {
        "id": "separated-wallace"
      },
      "source": [
        "Example\n",
        "Find the indexes where the values are even:"
      ],
      "id": "separated-wallace"
    },
    {
      "cell_type": "code",
      "metadata": {
        "id": "recreational-discretion",
        "outputId": "8e4f5842-d2ff-4591-819b-b694012191d6"
      },
      "source": [
        "arr = np.array([1,2,3,4,5,6,7,8,9,10])\n",
        "x = np.where(arr%2 == 0)\n",
        "x"
      ],
      "id": "recreational-discretion",
      "execution_count": null,
      "outputs": [
        {
          "output_type": "execute_result",
          "data": {
            "text/plain": [
              "(array([1, 3, 5, 7, 9], dtype=int64),)"
            ]
          },
          "metadata": {
            "tags": []
          },
          "execution_count": 95
        }
      ]
    },
    {
      "cell_type": "markdown",
      "metadata": {
        "id": "framed-karen"
      },
      "source": [
        "<b>Search Sorted</b>\n",
        "\n",
        "There is a method called searchsorted() which performs a binary search in the array, and returns the index where the specified value would be inserted to maintain the search order.\n",
        "\n",
        "The searchsorted() method is assumed to be used on sorted arrays.\n",
        "\n",
        "Example\n",
        "Find the indexes where the value 7 should be inserted:"
      ],
      "id": "framed-karen"
    },
    {
      "cell_type": "code",
      "metadata": {
        "id": "raised-builder",
        "outputId": "4303ef19-88b4-4524-dc12-9173ac57718d"
      },
      "source": [
        "arr = np.array([5,6,7,9,10])\n",
        "a = np.searchsorted(arr,8)\n",
        "a"
      ],
      "id": "raised-builder",
      "execution_count": null,
      "outputs": [
        {
          "output_type": "execute_result",
          "data": {
            "text/plain": [
              "3"
            ]
          },
          "metadata": {
            "tags": []
          },
          "execution_count": 97
        }
      ]
    },
    {
      "cell_type": "markdown",
      "metadata": {
        "id": "classified-minimum"
      },
      "source": [
        "<b>Search From the Right Side</b>\n",
        "\n",
        "By default the left most index is returned, but we can give side='right' to return the right most index instead.\n",
        "\n",
        "Example\n",
        "Find the indexes where the value 7 should be inserted, starting from the right:"
      ],
      "id": "classified-minimum"
    },
    {
      "cell_type": "code",
      "metadata": {
        "id": "bronze-michigan",
        "outputId": "7ff77e47-dd7f-4381-930c-0ac383f53857"
      },
      "source": [
        "arr = np.array([6,7,9,12,15])\n",
        "a = np.searchsorted(arr,10,side = 'right')\n",
        "a"
      ],
      "id": "bronze-michigan",
      "execution_count": null,
      "outputs": [
        {
          "output_type": "execute_result",
          "data": {
            "text/plain": [
              "3"
            ]
          },
          "metadata": {
            "tags": []
          },
          "execution_count": 102
        }
      ]
    },
    {
      "cell_type": "markdown",
      "metadata": {
        "id": "sapphire-garden"
      },
      "source": [
        "<b>Multiple Values</b>\n",
        "\n",
        "To search for more than one value, use an array with the specified values.\n",
        "\n",
        "Example\n",
        "Find the indexes where the values 2, 4, and 6 should be inserted:"
      ],
      "id": "sapphire-garden"
    },
    {
      "cell_type": "code",
      "metadata": {
        "id": "incorrect-motor",
        "outputId": "ea38f9e9-7aef-4713-e2e6-12e6e2e1c529"
      },
      "source": [
        "arr = np.array([1,3,5,7])\n",
        "x = np.searchsorted(arr,[2,4,6])\n",
        "x"
      ],
      "id": "incorrect-motor",
      "execution_count": null,
      "outputs": [
        {
          "output_type": "execute_result",
          "data": {
            "text/plain": [
              "array([1, 2, 3], dtype=int64)"
            ]
          },
          "metadata": {
            "tags": []
          },
          "execution_count": 103
        }
      ]
    },
    {
      "cell_type": "markdown",
      "metadata": {
        "id": "understanding-hawaii"
      },
      "source": [
        "<b>Sorting Arrays</b>\n",
        "\n",
        "Sorting means putting elements in an ordered sequence.\n",
        "\n",
        "Ordered sequence is any sequence that has an order corresponding to elements, like numeric or alphabetical, ascending or descending.\n",
        "\n",
        "The NumPy ndarray object has a function called sort(), that will sort a specified array.\n",
        "\n",
        "Example\n",
        "Sort the array:"
      ],
      "id": "understanding-hawaii"
    },
    {
      "cell_type": "code",
      "metadata": {
        "id": "behavioral-morocco",
        "outputId": "32403a6d-b9d0-46c7-b802-5ceb083766b0"
      },
      "source": [
        "arr = np.array([5,8,7,1,0])\n",
        "np.sort(arr)"
      ],
      "id": "behavioral-morocco",
      "execution_count": null,
      "outputs": [
        {
          "output_type": "execute_result",
          "data": {
            "text/plain": [
              "array([0, 1, 5, 7, 8])"
            ]
          },
          "metadata": {
            "tags": []
          },
          "execution_count": 104
        }
      ]
    },
    {
      "cell_type": "markdown",
      "metadata": {
        "id": "distributed-warrant"
      },
      "source": [
        "<b>Sorting a 2-D Array</b>\n",
        "\n",
        "If you use the sort() method on a 2-D array, both arrays will be sorted:\n",
        "\n",
        "Example\n",
        "Sort a 2-D array:"
      ],
      "id": "distributed-warrant"
    },
    {
      "cell_type": "code",
      "metadata": {
        "id": "allied-madonna",
        "outputId": "a76a3650-7e96-4f83-eae1-6d07884c0cc6"
      },
      "source": [
        "arr = np.array([[5,1,0],[9,6,2]])\n",
        "np.sort(arr)"
      ],
      "id": "allied-madonna",
      "execution_count": null,
      "outputs": [
        {
          "output_type": "execute_result",
          "data": {
            "text/plain": [
              "array([[0, 1, 5],\n",
              "       [2, 6, 9]])"
            ]
          },
          "metadata": {
            "tags": []
          },
          "execution_count": 105
        }
      ]
    },
    {
      "cell_type": "markdown",
      "metadata": {
        "id": "likely-liechtenstein"
      },
      "source": [
        "<b>Random Numbers in NumPy</b>\n",
        "\n",
        "What is a Random Number?\n",
        "\n",
        "Random number does NOT mean a different number every time. Random means something that can not be predicted logically.\n",
        "\n",
        "Pseudo Random and True Random.\n",
        "\n",
        "Computers work on programs, and programs are definitive set of instructions. So it means there must be some algorithm to generate a random number as well.\n",
        "\n",
        "If there is a program to generate random number it can be predicted, thus it is not truly random.\n",
        "\n",
        "Random numbers generated through a generation algorithm are called pseudo random.\n",
        "\n",
        "Generate Random Number\n",
        "NumPy offers the random module to work with random numbers.\n",
        "\n",
        "Example\n",
        "Generate a random integer from 0 to 100:"
      ],
      "id": "likely-liechtenstein"
    },
    {
      "cell_type": "code",
      "metadata": {
        "id": "colored-recording",
        "outputId": "7bff415b-cb53-448e-9bdb-59043ab0712c"
      },
      "source": [
        "from numpy import random\n",
        "x = random.randint(100)\n",
        "x"
      ],
      "id": "colored-recording",
      "execution_count": null,
      "outputs": [
        {
          "output_type": "execute_result",
          "data": {
            "text/plain": [
              "82"
            ]
          },
          "metadata": {
            "tags": []
          },
          "execution_count": 9
        }
      ]
    },
    {
      "cell_type": "markdown",
      "metadata": {
        "id": "afraid-reset"
      },
      "source": [
        "<b>Generate Random Float</b>\n",
        "\n",
        "The random module's rand() method returns a random float between 0 and 1.\n",
        "\n",
        "Example\n",
        "Generate a random float from 0 to 1:"
      ],
      "id": "afraid-reset"
    },
    {
      "cell_type": "code",
      "metadata": {
        "id": "decent-hartford",
        "outputId": "e88614d9-0ec2-4d68-b63f-1b8675f77857"
      },
      "source": [
        "from numpy import random\n",
        "x = random.rand()\n",
        "x"
      ],
      "id": "decent-hartford",
      "execution_count": null,
      "outputs": [
        {
          "output_type": "execute_result",
          "data": {
            "text/plain": [
              "0.3979976452105459"
            ]
          },
          "metadata": {
            "tags": []
          },
          "execution_count": 19
        }
      ]
    },
    {
      "cell_type": "markdown",
      "metadata": {
        "id": "pediatric-potential"
      },
      "source": [
        "<b>Generate Random Array</b>\n",
        "\n",
        "In NumPy we work with arrays, and you can use the two methods from the above examples to make random arrays.\n",
        "\n",
        "Integers\n",
        "\n",
        "The randint() method takes a size parameter where you can specify the shape of an array.\n",
        "\n",
        "Example\n",
        "Generate a 1-D array containing 5 random integers from 0 to 100:"
      ],
      "id": "pediatric-potential"
    },
    {
      "cell_type": "code",
      "metadata": {
        "id": "weekly-cable",
        "outputId": "addc87d6-11fe-4334-d3f4-31c39194469c"
      },
      "source": [
        "x = random.randint(100,size =5)\n",
        "x"
      ],
      "id": "weekly-cable",
      "execution_count": null,
      "outputs": [
        {
          "output_type": "execute_result",
          "data": {
            "text/plain": [
              "array([93, 94, 72, 37, 62])"
            ]
          },
          "metadata": {
            "tags": []
          },
          "execution_count": 24
        }
      ]
    },
    {
      "cell_type": "code",
      "metadata": {
        "id": "detected-mayor",
        "outputId": "a762e4c3-8971-4884-d524-b1a038dbb3db"
      },
      "source": [
        "x = random.randint(100,size =(3,5,2))\n",
        "x"
      ],
      "id": "detected-mayor",
      "execution_count": null,
      "outputs": [
        {
          "output_type": "execute_result",
          "data": {
            "text/plain": [
              "array([[[70,  0],\n",
              "        [49, 22],\n",
              "        [66, 53],\n",
              "        [22, 93],\n",
              "        [26, 41]],\n",
              "\n",
              "       [[26, 85],\n",
              "        [76, 43],\n",
              "        [13, 41],\n",
              "        [42, 64],\n",
              "        [65, 33]],\n",
              "\n",
              "       [[77, 81],\n",
              "        [37, 27],\n",
              "        [68, 48],\n",
              "        [49, 89],\n",
              "        [98, 37]]])"
            ]
          },
          "metadata": {
            "tags": []
          },
          "execution_count": 31
        }
      ]
    },
    {
      "cell_type": "markdown",
      "metadata": {
        "id": "designed-florence"
      },
      "source": [
        "<b>Generate Random Number From Array</b>\n",
        "\n",
        "The choice() method allows you to generate a random value based on an array of values.\n",
        "\n",
        "The choice() method takes an array as a parameter and randomly returns one of the values.\n",
        "\n",
        "Example\n",
        "Return one of the values in an array:\n",
        "\n",
        "The choice() method also allows you to return an array of values.\n",
        "\n",
        "Add a size parameter to specify the shape of the array."
      ],
      "id": "designed-florence"
    },
    {
      "cell_type": "code",
      "metadata": {
        "id": "hired-cookie",
        "outputId": "9f4c979b-83c3-4ab4-8400-f9a42a1887aa"
      },
      "source": [
        "x=random.choice([3,5,9,10])\n",
        "x"
      ],
      "id": "hired-cookie",
      "execution_count": null,
      "outputs": [
        {
          "output_type": "execute_result",
          "data": {
            "text/plain": [
              "10"
            ]
          },
          "metadata": {
            "tags": []
          },
          "execution_count": 38
        }
      ]
    },
    {
      "cell_type": "raw",
      "metadata": {
        "id": "powerful-stomach"
      },
      "source": [
        ""
      ],
      "id": "powerful-stomach"
    },
    {
      "cell_type": "code",
      "metadata": {
        "id": "shaped-leather"
      },
      "source": [
        ""
      ],
      "id": "shaped-leather",
      "execution_count": null,
      "outputs": []
    },
    {
      "cell_type": "code",
      "metadata": {
        "id": "natural-ethiopia"
      },
      "source": [
        ""
      ],
      "id": "natural-ethiopia",
      "execution_count": null,
      "outputs": []
    },
    {
      "cell_type": "code",
      "metadata": {
        "id": "eleven-sugar"
      },
      "source": [
        ""
      ],
      "id": "eleven-sugar",
      "execution_count": null,
      "outputs": []
    },
    {
      "cell_type": "code",
      "metadata": {
        "id": "foster-lightning"
      },
      "source": [
        ""
      ],
      "id": "foster-lightning",
      "execution_count": null,
      "outputs": []
    },
    {
      "cell_type": "code",
      "metadata": {
        "id": "valuable-schema"
      },
      "source": [
        ""
      ],
      "id": "valuable-schema",
      "execution_count": null,
      "outputs": []
    }
  ]
}